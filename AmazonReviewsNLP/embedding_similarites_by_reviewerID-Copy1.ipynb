{
 "cells": [
  {
   "cell_type": "code",
   "execution_count": 109,
   "id": "dfc7f93d",
   "metadata": {},
   "outputs": [],
   "source": [
    "import openai\n",
    "from openai.embeddings_utils import cosine_similarity\n",
    "import pandas as pd\n",
    "import numpy as np\n",
    "import os\n",
    "from __future__ import division\n",
    "from scipy.stats import ttest_ind\n",
    "import itertools"
   ]
  },
  {
   "cell_type": "code",
   "execution_count": 110,
   "id": "755a709f",
   "metadata": {},
   "outputs": [],
   "source": [
    "def get_simtoavg_list(df):\n",
    "    embeddings = df['embedding'].apply(lambda x: np.array(x))\n",
    "    embeddings = embeddings.to_numpy()\n",
    "    average_embedding = np.mean(embeddings, axis=0)\n",
    "        \n",
    "    sim_to_avgs = []\n",
    "    for e in embeddings:\n",
    "        sim_to_avgs.append(cosine_similarity(e, average_embedding))\n",
    "    \n",
    "    return sim_to_avgs\n",
    "\n",
    "\n",
    "def get_simtoavg_comp(df, revID1, revID2):\n",
    "    \n",
    "    df1 = df[(df['reviewerID']==revID1)]\n",
    "    df2 = df[(df['reviewerID']==revID2)]\n",
    "\n",
    "    simtoavgs1 = get_simtoavg_list(df1)\n",
    "    simtoavgs2 = get_simtoavg_list(df2)\n",
    "\n",
    "    tstat = ttest_ind(simtoavgs1, simtoavgs2)\n",
    "    print('Similarity comparison between the two chosen ReviewerIDs:')\n",
    "    print(tstat)\n"
   ]
  },
  {
   "cell_type": "code",
   "execution_count": 111,
   "id": "bc850f9f",
   "metadata": {},
   "outputs": [],
   "source": [
    "# pairwise similarity comparison\n",
    "\n",
    "def get_pairwise_sim_list(df):\n",
    "    \n",
    "    embeddings = df['embedding'].apply(lambda x: np.array(x))\n",
    "    embeddings = embeddings.to_numpy()\n",
    "    \n",
    "    pairs = list(itertools.combinations(embeddings, 2))\n",
    "    \n",
    "    pair_sims = []\n",
    "    for p in pairs:\n",
    "        pair_sims.append(cosine_similarity(p[0], p[1]))\n",
    "        \n",
    "    return pair_sims    \n",
    "\n",
    "    \n",
    "def get_pairwise_similarity_comp(df, revID1, revID2):\n",
    "    \n",
    "    df1 = df[(df['reviewerID']==revID1)]\n",
    "    df2 = df[(df['reviewerID']==revID2)]\n",
    "\n",
    "    pairsims1 = get_pairwise_sim_list(df1)\n",
    "    pairsims2 = get_pairwise_sim_list(df2)\n",
    "\n",
    "    tstat = ttest_ind(pairsims1, pairsims2)\n",
    "    print('Similarity comparison between the two chosen ReviewerIDs:')\n",
    "    print(tstat)\n"
   ]
  },
  {
   "cell_type": "code",
   "execution_count": 121,
   "id": "b3fef597",
   "metadata": {},
   "outputs": [],
   "source": [
    "def get_ttest(df, comparison_type, revID1, revID2):\n",
    "    \n",
    "    if comparison_type == 'pairwise':\n",
    "        get_pairwise_similarity_comp(df, revID1, revID2)\n",
    "        \n",
    "    if comparison_type == 'sim_to_avg':\n",
    "        get_simtoavg_comp(df, revID1, revID2)"
   ]
  },
  {
   "cell_type": "code",
   "execution_count": 122,
   "id": "f1fb4a96",
   "metadata": {},
   "outputs": [],
   "source": [
    "df = pd.read_pickle('practical_top50reviewIDs_embeddings.pkl')\n",
    "comparison_type = 'sim_to_avg'\n",
    "revID1 = 'B00178630A'\n",
    "revID2 = 'B000W20LKK'"
   ]
  },
  {
   "cell_type": "code",
   "execution_count": 123,
   "id": "ffbd7286",
   "metadata": {},
   "outputs": [
    {
     "name": "stdout",
     "output_type": "stream",
     "text": [
      "Ratings group 1 comparison between two products:\n",
      "TtestResult(statistic=-1.1034053005359343, pvalue=0.27535243173073143, df=48.0)\n",
      "Ratings group 2 comparison between two products:\n",
      "TtestResult(statistic=2.920427420377149, pvalue=0.005311476823492506, df=48.0)\n"
     ]
    }
   ],
   "source": [
    "get_ttest(df, comparison_type, ratings_groups, revID1, revID2)"
   ]
  },
  {
   "cell_type": "code",
   "execution_count": null,
   "id": "7588e1ee",
   "metadata": {},
   "outputs": [],
   "source": [
    "def pairwisesim_rating_bar(df):\n",
    "    \n",
    "    revID_review_counts = df['reviewerID'].value_counts()\n",
    "    sorted_reviewers = revID_review_counts.sort_values(ascending=False).index\n",
    "    top_10_reviewers = sorted_reviewers[:10]\n",
    "    \n",
    "    filtered_df = df[df['reviewerID'].isin(top_10_reviewers)]\n",
    "\n",
    "    \n",
    "    reviewID_pairsims = []\n",
    "    \n",
    "    for revID in top_10_reviewers:\n",
    "        revID_df = filtered_df[(filtered_df['reviewerID']==revID)]\n",
    "        pairsims = get_pairwise_sim_list(revID_df)\n",
    "        reviewID_pairsims.append(np.mean(pairsims))\n",
    "    \n",
    "    plt_df = pd.DataFrame({'RevID':top_10_reviewers, 'val':reviewID_pairsims})\n",
    "    \n",
    "    title = 'Top 10 Reviewers, Pairwise Similarity'\n",
    "    ax = plt_df.plot.bar(x='RevID', y='val', title=title, rot=0, legend=False)\n",
    "    ax.bar_label(ax.containers[0])\n",
    "    plt.xlabel('Reviewer ID')\n",
    "    plt.ylabel('Mean Cosine Similarity')  \n",
    "\n",
    "    plt.savefig('pairwise_sim_top10RevIDs.png')\n",
    "    \n",
    "    plt.show()\n",
    "\n",
    "    \n",
    "\n",
    "df = pd.read_pickle('practical_top50reviewIDs_embeddings.pkl')\n",
    "pairwisesim_rating_bar(df)"
   ]
  }
 ],
 "metadata": {
  "kernelspec": {
   "display_name": "Python 3 (ipykernel)",
   "language": "python",
   "name": "python3"
  },
  "language_info": {
   "codemirror_mode": {
    "name": "ipython",
    "version": 3
   },
   "file_extension": ".py",
   "mimetype": "text/x-python",
   "name": "python",
   "nbconvert_exporter": "python",
   "pygments_lexer": "ipython3",
   "version": "3.11.6"
  }
 },
 "nbformat": 4,
 "nbformat_minor": 5
}
